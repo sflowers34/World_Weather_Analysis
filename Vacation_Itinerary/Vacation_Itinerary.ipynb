{
 "cells": [
  {
   "cell_type": "markdown",
   "metadata": {},
   "source": [
    "## Deliverable 3. Create a Travel Itinerary Map."
   ]
  },
  {
   "cell_type": "code",
   "execution_count": 41,
   "metadata": {},
   "outputs": [],
   "source": [
    "# Dependencies and Setup\n",
    "import pandas as pd\n",
    "import requests\n",
    "import gmaps\n",
    "\n",
    "# Import API key\n",
    "from config import g_key\n",
    "\n",
    "# Configure gmaps\n",
    "gmaps.configure(api_key=g_key)"
   ]
  },
  {
   "cell_type": "code",
   "execution_count": 42,
   "metadata": {},
   "outputs": [
    {
     "data": {
      "text/html": [
       "<div>\n",
       "<style scoped>\n",
       "    .dataframe tbody tr th:only-of-type {\n",
       "        vertical-align: middle;\n",
       "    }\n",
       "\n",
       "    .dataframe tbody tr th {\n",
       "        vertical-align: top;\n",
       "    }\n",
       "\n",
       "    .dataframe thead th {\n",
       "        text-align: right;\n",
       "    }\n",
       "</style>\n",
       "<table border=\"1\" class=\"dataframe\">\n",
       "  <thead>\n",
       "    <tr style=\"text-align: right;\">\n",
       "      <th></th>\n",
       "      <th>City_ID</th>\n",
       "      <th>City</th>\n",
       "      <th>Country</th>\n",
       "      <th>Max Temp</th>\n",
       "      <th>Current Description</th>\n",
       "      <th>Lat</th>\n",
       "      <th>Lng</th>\n",
       "      <th>Hotel Name</th>\n",
       "    </tr>\n",
       "  </thead>\n",
       "  <tbody>\n",
       "    <tr>\n",
       "      <th>0</th>\n",
       "      <td>0</td>\n",
       "      <td>Atar</td>\n",
       "      <td>MR</td>\n",
       "      <td>89.94</td>\n",
       "      <td>overcast clouds</td>\n",
       "      <td>20.52</td>\n",
       "      <td>-13.05</td>\n",
       "      <td>Oumou Elghoura</td>\n",
       "    </tr>\n",
       "    <tr>\n",
       "      <th>1</th>\n",
       "      <td>6</td>\n",
       "      <td>Filingue</td>\n",
       "      <td>NE</td>\n",
       "      <td>89.47</td>\n",
       "      <td>few clouds</td>\n",
       "      <td>14.35</td>\n",
       "      <td>3.32</td>\n",
       "      <td>NaN</td>\n",
       "    </tr>\n",
       "    <tr>\n",
       "      <th>2</th>\n",
       "      <td>8</td>\n",
       "      <td>Akyab</td>\n",
       "      <td>MM</td>\n",
       "      <td>77.86</td>\n",
       "      <td>overcast clouds</td>\n",
       "      <td>20.15</td>\n",
       "      <td>92.90</td>\n",
       "      <td>Hotel Memory</td>\n",
       "    </tr>\n",
       "    <tr>\n",
       "      <th>3</th>\n",
       "      <td>9</td>\n",
       "      <td>Tautira</td>\n",
       "      <td>PF</td>\n",
       "      <td>80.60</td>\n",
       "      <td>shower rain</td>\n",
       "      <td>-17.73</td>\n",
       "      <td>-149.15</td>\n",
       "      <td>Pension Oaoa</td>\n",
       "    </tr>\n",
       "    <tr>\n",
       "      <th>4</th>\n",
       "      <td>11</td>\n",
       "      <td>Boa Vista</td>\n",
       "      <td>BR</td>\n",
       "      <td>82.40</td>\n",
       "      <td>shower rain</td>\n",
       "      <td>2.82</td>\n",
       "      <td>-60.67</td>\n",
       "      <td>Aipana Plaza Hotel</td>\n",
       "    </tr>\n",
       "  </tbody>\n",
       "</table>\n",
       "</div>"
      ],
      "text/plain": [
       "   City_ID       City Country  Max Temp Current Description    Lat     Lng  \\\n",
       "0        0       Atar      MR     89.94     overcast clouds  20.52  -13.05   \n",
       "1        6   Filingue      NE     89.47          few clouds  14.35    3.32   \n",
       "2        8      Akyab      MM     77.86     overcast clouds  20.15   92.90   \n",
       "3        9    Tautira      PF     80.60         shower rain -17.73 -149.15   \n",
       "4       11  Boa Vista      BR     82.40         shower rain   2.82  -60.67   \n",
       "\n",
       "           Hotel Name  \n",
       "0      Oumou Elghoura  \n",
       "1                 NaN  \n",
       "2        Hotel Memory  \n",
       "3        Pension Oaoa  \n",
       "4  Aipana Plaza Hotel  "
      ]
     },
     "execution_count": 42,
     "metadata": {},
     "output_type": "execute_result"
    }
   ],
   "source": [
    "# 1. Read the WeatherPy_vacation.csv into a DataFrame.\n",
    "vacation_df = pd.read_csv(\"Vacation_Search/WeatherPy_vacation.csv\")\n",
    "vacation_df.head()"
   ]
  },
  {
   "cell_type": "code",
   "execution_count": 43,
   "metadata": {},
   "outputs": [],
   "source": [
    "# 2. Using the template add the city name, the country code, the weather description and maximum temperature for the city.\n",
    "info_box_template = \"\"\"\n",
    "<dl>\n",
    "<dt>Hotel Name</dt><dd>{Hotel Name}</dd>\n",
    "<dt>City</dt><dd>{City}</dd>\n",
    "<dt>Country</dt><dd>{Country}</dd>\n",
    "<dt>Current Weather</dt><dd>{Current Description}</dd>\n",
    "<dt>Max Temp</dt><dd>{Max Temp} °F</dd>\n",
    "</dl>\n",
    "\"\"\"\n",
    "\n",
    "# 3a. Get the data from each row and add it to the formatting template and store the data in a list.\n",
    "hotel_info = [info_box_template.format(**row) for index, row in vacation_df.iterrows()]\n",
    "\n",
    "# 3b. Get the latitude and longitude from each row and store in a new DataFrame.\n",
    "locations = vacation_df[[\"Lat\", \"Lng\"]]"
   ]
  },
  {
   "cell_type": "code",
   "execution_count": 48,
   "metadata": {},
   "outputs": [
    {
     "data": {
      "application/vnd.jupyter.widget-view+json": {
       "model_id": "e128a41d6d5a4b2582884d0b4593719d",
       "version_major": 2,
       "version_minor": 0
      },
      "text/plain": [
       "Figure(layout=FigureLayout(height='420px'))"
      ]
     },
     "metadata": {},
     "output_type": "display_data"
    }
   ],
   "source": [
    "# 4a. Add a marker layer for each city to the map.\n",
    "max_temp = vacation_df[\"Max Temp\"]\n",
    "fig = gmaps.figure(center=(30.0, 31.0), zoom_level=1.5)\n",
    "marker_layer = gmaps.marker_layer(locations, info_box_content=hotel_info)\n",
    "fig.add_layer(marker_layer)\n",
    "\n",
    "# 4b. Display the figure\n",
    "fig\n"
   ]
  },
  {
   "cell_type": "code",
   "execution_count": 49,
   "metadata": {},
   "outputs": [
    {
     "data": {
      "text/html": [
       "<div>\n",
       "<style scoped>\n",
       "    .dataframe tbody tr th:only-of-type {\n",
       "        vertical-align: middle;\n",
       "    }\n",
       "\n",
       "    .dataframe tbody tr th {\n",
       "        vertical-align: top;\n",
       "    }\n",
       "\n",
       "    .dataframe thead th {\n",
       "        text-align: right;\n",
       "    }\n",
       "</style>\n",
       "<table border=\"1\" class=\"dataframe\">\n",
       "  <thead>\n",
       "    <tr style=\"text-align: right;\">\n",
       "      <th></th>\n",
       "      <th>City_ID</th>\n",
       "      <th>City</th>\n",
       "      <th>Country</th>\n",
       "      <th>Max Temp</th>\n",
       "      <th>Current Description</th>\n",
       "      <th>Lat</th>\n",
       "      <th>Lng</th>\n",
       "      <th>Hotel Name</th>\n",
       "    </tr>\n",
       "  </thead>\n",
       "  <tbody>\n",
       "    <tr>\n",
       "      <th>49</th>\n",
       "      <td>175</td>\n",
       "      <td>San Quintin</td>\n",
       "      <td>MX</td>\n",
       "      <td>77.02</td>\n",
       "      <td>clear sky</td>\n",
       "      <td>30.48</td>\n",
       "      <td>-115.95</td>\n",
       "      <td>Old Mill Hotel</td>\n",
       "    </tr>\n",
       "  </tbody>\n",
       "</table>\n",
       "</div>"
      ],
      "text/plain": [
       "    City_ID         City Country  Max Temp Current Description    Lat     Lng  \\\n",
       "49      175  San Quintin      MX     77.02           clear sky  30.48 -115.95   \n",
       "\n",
       "        Hotel Name  \n",
       "49  Old Mill Hotel  "
      ]
     },
     "execution_count": 49,
     "metadata": {},
     "output_type": "execute_result"
    }
   ],
   "source": [
    "# From the map above pick 4 cities and create a vacation itinerary route to travel between the four cities. \n",
    "# 5. Create DataFrames for each city by filtering the 'vacation_df' using the loc method. \n",
    "# Hint: The starting and ending city should be the same city.\n",
    "\n",
    "vacation_start_df = vacation_df.loc[vacation_df[\"City\"] == \"Catalina\"]\n",
    "vacation_end_df = vacation_df.loc[vacation_df[\"City\"] == \"Catalina\"]\n",
    "vacation_stop1_df = vacation_df.loc[vacation_df[\"City\"] == \"Caborca\" ]\n",
    "vacation_stop2_df = vacation_df.loc[vacation_df[\"City\"] == \"Moctezuma\" ] \n",
    "vacation_stop3_df = vacation_df.loc[vacation_df[\"City\"] == \"San Quintin\"] \n",
    "vacation_stop3_df\n"
   ]
  },
  {
   "cell_type": "code",
   "execution_count": 50,
   "metadata": {},
   "outputs": [
    {
     "data": {
      "text/plain": [
       "(30.48, -115.95)"
      ]
     },
     "execution_count": 50,
     "metadata": {},
     "output_type": "execute_result"
    }
   ],
   "source": [
    "# 6. Get the latitude-longitude pairs as tuples from each city DataFrame using the to_numpy function and list indexing.\n",
    "start = tuple(*vacation_start_df[[\"Lat\", \"Lng\"]].to_numpy())\n",
    "end = tuple(*vacation_end_df[[\"Lat\", \"Lng\"]].to_numpy())\n",
    "stop1 = tuple(*vacation_stop1_df[[\"Lat\", \"Lng\"]].to_numpy())\n",
    "stop2 = tuple(*vacation_stop2_df[[\"Lat\", \"Lng\"]].to_numpy())\n",
    "stop3 = tuple(*vacation_stop3_df[[\"Lat\", \"Lng\"]].to_numpy())\n",
    "stop3"
   ]
  },
  {
   "cell_type": "code",
   "execution_count": 51,
   "metadata": {
    "scrolled": true
   },
   "outputs": [
    {
     "data": {
      "application/vnd.jupyter.widget-view+json": {
       "model_id": "63615e003baa4177acf2afdf7d91e8b2",
       "version_major": 2,
       "version_minor": 0
      },
      "text/plain": [
       "Figure(layout=FigureLayout(height='420px'))"
      ]
     },
     "metadata": {},
     "output_type": "display_data"
    }
   ],
   "source": [
    "# 7. Create a direction layer map using the start and end latitude-longitude pairs,\n",
    "# and stop1, stop2, and stop3 as the waypoints. The travel_mode should be \"DRIVING\", \"BICYCLING\", or \"WALKING\".\n",
    "fig = gmaps.figure()\n",
    "direction_layer_map = gmaps.directions_layer(start, end, waypoints=[stop1,stop2,stop3], travel_mode=\"DRIVING\")\n",
    "fig.add_layer(direction_layer_map)\n",
    "fig"
   ]
  },
  {
   "cell_type": "code",
   "execution_count": 52,
   "metadata": {},
   "outputs": [
    {
     "data": {
      "text/html": [
       "<div>\n",
       "<style scoped>\n",
       "    .dataframe tbody tr th:only-of-type {\n",
       "        vertical-align: middle;\n",
       "    }\n",
       "\n",
       "    .dataframe tbody tr th {\n",
       "        vertical-align: top;\n",
       "    }\n",
       "\n",
       "    .dataframe thead th {\n",
       "        text-align: right;\n",
       "    }\n",
       "</style>\n",
       "<table border=\"1\" class=\"dataframe\">\n",
       "  <thead>\n",
       "    <tr style=\"text-align: right;\">\n",
       "      <th></th>\n",
       "      <th>City_ID</th>\n",
       "      <th>City</th>\n",
       "      <th>Country</th>\n",
       "      <th>Max Temp</th>\n",
       "      <th>Current Description</th>\n",
       "      <th>Lat</th>\n",
       "      <th>Lng</th>\n",
       "      <th>Hotel Name</th>\n",
       "    </tr>\n",
       "  </thead>\n",
       "  <tbody>\n",
       "    <tr>\n",
       "      <th>0</th>\n",
       "      <td>599</td>\n",
       "      <td>Catalina</td>\n",
       "      <td>US</td>\n",
       "      <td>87.01</td>\n",
       "      <td>broken clouds</td>\n",
       "      <td>32.51</td>\n",
       "      <td>-110.92</td>\n",
       "      <td>Miraval Arizona Resort &amp; Spa</td>\n",
       "    </tr>\n",
       "    <tr>\n",
       "      <th>1</th>\n",
       "      <td>231</td>\n",
       "      <td>Caborca</td>\n",
       "      <td>MX</td>\n",
       "      <td>87.89</td>\n",
       "      <td>broken clouds</td>\n",
       "      <td>30.58</td>\n",
       "      <td>-111.10</td>\n",
       "      <td>Hotel Los Lagos</td>\n",
       "    </tr>\n",
       "    <tr>\n",
       "      <th>2</th>\n",
       "      <td>612</td>\n",
       "      <td>Moctezuma</td>\n",
       "      <td>MX</td>\n",
       "      <td>87.80</td>\n",
       "      <td>scattered clouds</td>\n",
       "      <td>29.80</td>\n",
       "      <td>-109.67</td>\n",
       "      <td>Hotel Lobohombo</td>\n",
       "    </tr>\n",
       "    <tr>\n",
       "      <th>3</th>\n",
       "      <td>175</td>\n",
       "      <td>San Quintin</td>\n",
       "      <td>MX</td>\n",
       "      <td>77.02</td>\n",
       "      <td>clear sky</td>\n",
       "      <td>30.48</td>\n",
       "      <td>-115.95</td>\n",
       "      <td>Old Mill Hotel</td>\n",
       "    </tr>\n",
       "    <tr>\n",
       "      <th>4</th>\n",
       "      <td>599</td>\n",
       "      <td>Catalina</td>\n",
       "      <td>US</td>\n",
       "      <td>87.01</td>\n",
       "      <td>broken clouds</td>\n",
       "      <td>32.51</td>\n",
       "      <td>-110.92</td>\n",
       "      <td>Miraval Arizona Resort &amp; Spa</td>\n",
       "    </tr>\n",
       "  </tbody>\n",
       "</table>\n",
       "</div>"
      ],
      "text/plain": [
       "   City_ID         City Country  Max Temp Current Description    Lat     Lng  \\\n",
       "0      599     Catalina      US     87.01       broken clouds  32.51 -110.92   \n",
       "1      231      Caborca      MX     87.89       broken clouds  30.58 -111.10   \n",
       "2      612    Moctezuma      MX     87.80    scattered clouds  29.80 -109.67   \n",
       "3      175  San Quintin      MX     77.02           clear sky  30.48 -115.95   \n",
       "4      599     Catalina      US     87.01       broken clouds  32.51 -110.92   \n",
       "\n",
       "                     Hotel Name  \n",
       "0  Miraval Arizona Resort & Spa  \n",
       "1               Hotel Los Lagos  \n",
       "2               Hotel Lobohombo  \n",
       "3                Old Mill Hotel  \n",
       "4  Miraval Arizona Resort & Spa  "
      ]
     },
     "execution_count": 52,
     "metadata": {},
     "output_type": "execute_result"
    }
   ],
   "source": [
    "# 8. To create a marker layer map between the four cities.\n",
    "#  Combine the four city DataFrames into one DataFrame using the concat() function.\n",
    "itinerary_df = pd.concat([vacation_start_df, vacation_stop1_df, vacation_stop2_df, vacation_stop3_df, vacation_end_df], ignore_index=True)\n",
    "itinerary_df"
   ]
  },
  {
   "cell_type": "code",
   "execution_count": 53,
   "metadata": {},
   "outputs": [],
   "source": [
    "# 9 Using the template add city name, the country code, the weather description and maximum temperature for the city. \n",
    "info_box_template = \"\"\"\n",
    "<dl>\n",
    "<dt>Hotel Name</dt><dd>{Hotel Name}</dd>\n",
    "<dt>City</dt><dd>{City}</dd>\n",
    "<dt>Country</dt><dd>{Country}</dd>\n",
    "<dt>Current Weather</dt><dd>{Current Description}</dd>\n",
    "<dt>Max Temp</dt><dd>{Max Temp} °F</dd>\n",
    "</dl>\n",
    "\"\"\"\n",
    "\n",
    "# 10a Get the data from each row and add it to the formatting template and store the data in a list.\n",
    "hotel_info = [info_box_template.format(**row) for index, row in itinerary_df.iterrows()]\n",
    "\n",
    "# 10b. Get the latitude and longitude from each row and store in a new DataFrame.\n",
    "locations = itinerary_df[[\"Lat\", \"Lng\"]]"
   ]
  },
  {
   "cell_type": "code",
   "execution_count": 54,
   "metadata": {},
   "outputs": [
    {
     "data": {
      "application/vnd.jupyter.widget-view+json": {
       "model_id": "246f0dca50114f5f9351cfbef1175a41",
       "version_major": 2,
       "version_minor": 0
      },
      "text/plain": [
       "Figure(layout=FigureLayout(height='420px'))"
      ]
     },
     "metadata": {},
     "output_type": "display_data"
    }
   ],
   "source": [
    "# 11a. Add a marker layer for each city to the map.\n",
    "max_temp = vacation_df[\"Max Temp\"]\n",
    "fig = gmaps.figure(center=(30.0, 31.0), zoom_level=1.5)\n",
    "marker_layer = gmaps.marker_layer(locations, info_box_content=hotel_info)\n",
    "fig.add_layer(marker_layer)\n",
    "\n",
    "# 11b. Display the figure\n",
    "fig"
   ]
  },
  {
   "cell_type": "code",
   "execution_count": null,
   "metadata": {},
   "outputs": [],
   "source": []
  }
 ],
 "metadata": {
  "kernelspec": {
   "display_name": "PythonData",
   "language": "python",
   "name": "pythondata"
  },
  "language_info": {
   "codemirror_mode": {
    "name": "ipython",
    "version": 3
   },
   "file_extension": ".py",
   "mimetype": "text/x-python",
   "name": "python",
   "nbconvert_exporter": "python",
   "pygments_lexer": "ipython3",
   "version": "3.7.7"
  },
  "latex_envs": {
   "LaTeX_envs_menu_present": true,
   "autoclose": false,
   "autocomplete": true,
   "bibliofile": "biblio.bib",
   "cite_by": "apalike",
   "current_citInitial": 1,
   "eqLabelWithNumbers": true,
   "eqNumInitial": 1,
   "hotkeys": {
    "equation": "Ctrl-E",
    "itemize": "Ctrl-I"
   },
   "labels_anchors": false,
   "latex_user_defs": false,
   "report_style_numbering": false,
   "user_envs_cfg": false
  }
 },
 "nbformat": 4,
 "nbformat_minor": 2
}
